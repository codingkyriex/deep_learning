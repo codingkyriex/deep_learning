{
 "cells": [
  {
   "cell_type": "markdown",
   "metadata": {},
   "source": [
    "# 批量规范化\n",
    "## 一、目的：\n",
    "* 防止过多的中间层导致学习参数向过大或过小的方向偏移\n",
    "* 防止过拟合\n",
    "## 二、基本公式\n",
    "$$\n",
    "\\mathrm{BN}(\\mathbf{x}) = \\boldsymbol{\\gamma} \\odot \\frac{\\mathbf{x} - \\hat{\\boldsymbol{\\mu}}_\\mathcal{B}}{\\hat{\\boldsymbol{\\sigma}}_\\mathcal{B}} + \\boldsymbol{\\beta}\n",
    "（注意scale:\\boldsymbol{\\gamma}，shift:\\boldsymbol{\\beta}）\n",
    "$$\n",
    "\n",
    "**其中分母常加上eps（即标准差加上一个超参数）为了使其非零化**\n",
    "## 三、不同层的处理\n",
    "* 全连接层：\n",
    "$$\n",
    "\\mathbf{h} = \\phi(\\mathrm{BN}(\\mathbf{W}\\mathbf{x} + \\mathbf{b}) ).\n",
    "$$\n",
    "* 卷积层：\n",
    "  对卷积层的不同通道进行BatchNorm处理，每个通道具有自己的scale和shifting，假设批量满足\n",
    "  $shape \\in R^{m*h*p*q}$ 则对于每一个通道来说都要对其m*p*q个元素同时BatchNorm处理\n",
    "## 四、BatchNorm2d()\n",
    "### 1.参数说明：\n",
    "* num_features：一般输入参数为batch_size*num_features*height*width，即为其中特征的数量\n",
    "* eps：分母中添加的一个值，目的是为了计算的稳定性，默认为：1e-5\n",
    "* momentum：一个用于运行过程中均值和方差的一个估计参数（我的理解是一个稳定系数，类似于SGD中的momentum的系数）\n",
    "* affine：当设为true时，会给定可以学习的系数矩阵gamma和beta"
   ]
  },
  {
   "cell_type": "code",
   "execution_count": 1,
   "metadata": {},
   "outputs": [
    {
     "data": {
      "text/plain": [
       "(tensor([[[[-1.9394, -0.1252,  0.3066,  0.1768],\n",
       "           [ 1.2537,  1.4705,  1.6851, -0.8037],\n",
       "           [ 0.4385,  0.4111, -1.0232,  0.4801]],\n",
       " \n",
       "          [[-0.4614, -0.7486, -0.6783,  2.0137],\n",
       "           [-0.4156, -0.7497, -0.7075, -1.7105],\n",
       "           [-0.8317,  1.4097,  1.2497, -1.7021]]]]),\n",
       " tensor([[[[-2.1068, -0.3154,  0.1109, -0.0172],\n",
       "           [ 1.0461,  1.2602,  1.4721, -0.9853],\n",
       "           [ 0.2412,  0.2142, -1.2021,  0.2822]],\n",
       " \n",
       "          [[-0.1608, -0.4122, -0.3506,  2.0057],\n",
       "           [-0.1207, -0.4131, -0.3763, -1.2541],\n",
       "           [-0.4849,  1.4770,  1.3370, -1.2468]]]],\n",
       "        grad_fn=<NativeBatchNormBackward0>))"
      ]
     },
     "execution_count": 1,
     "metadata": {},
     "output_type": "execute_result"
    }
   ],
   "source": [
    "import torch\n",
    "import torch.nn as nn\n",
    "\n",
    "net=nn.BatchNorm2d(2,affine=True)\n",
    "input=torch.randn(1,2,3,4)\n",
    "output=net(input)\n",
    "input,output"
   ]
  },
  {
   "cell_type": "markdown",
   "metadata": {},
   "source": [
    "### 2.源码解析："
   ]
  },
  {
   "cell_type": "code",
   "execution_count": null,
   "metadata": {},
   "outputs": [],
   "source": [
    "def batch_norm(X, gamma, beta, moving_mean, moving_var, eps, momentum):\n",
    "    # 通过is_grad_enabled来判断当前模式是训练模式还是预测模式\n",
    "    if not torch.is_grad_enabled():\n",
    "        # 如果是在预测模式下，直接使用传入的移动平均所得的均值和方差\n",
    "        X_hat = (X - moving_mean) / torch.sqrt(moving_var + eps)\n",
    "    else:\n",
    "        assert len(X.shape) in (2, 4)\n",
    "        if len(X.shape) == 2:\n",
    "            # 使用全连接层的情况，计算特征维上的均值和方差\n",
    "            mean = X.mean(dim=0)\n",
    "            var = ((X - mean) ** 2).mean(dim=0)\n",
    "        else:\n",
    "            # 使用二维卷积层的情况，计算通道维上（axis=1）的均值和方差。\n",
    "            # 这里我们需要保持X的形状以便后面可以做广播运算\n",
    "            mean = X.mean(dim=(0, 2, 3), keepdim=True)\n",
    "            var = ((X - mean) ** 2).mean(dim=(0, 2, 3), keepdim=True)\n",
    "        # 训练模式下，用当前的均值和方差做标准化\n",
    "        X_hat = (X - mean) / torch.sqrt(var + eps)\n",
    "        # 更新移动平均的均值和方差\n",
    "        moving_mean = momentum * moving_mean + (1.0 - momentum) * mean\n",
    "        moving_var = momentum * moving_var + (1.0 - momentum) * var\n",
    "    Y = gamma * X_hat + beta  # 缩放和移位\n",
    "    return Y, moving_mean.data, moving_var.data\n",
    "\n",
    "class BatchNorm(nn.Module):\n",
    "    # num_features：完全连接层的输出数量或卷积层的输出通道数。\n",
    "    # num_dims：2表示完全连接层，4表示卷积层\n",
    "    def __init__(self, num_features, num_dims):\n",
    "        super().__init__()\n",
    "        if num_dims == 2:\n",
    "            shape = (1, num_features)\n",
    "        else:\n",
    "            shape = (1, num_features, 1, 1)\n",
    "        # 参与求梯度和迭代的拉伸和偏移参数，分别初始化成1和0\n",
    "        self.gamma = nn.Parameter(torch.ones(shape))\n",
    "        self.beta = nn.Parameter(torch.zeros(shape))\n",
    "        # 非模型参数的变量初始化为0和1\n",
    "        self.moving_mean = torch.zeros(shape)\n",
    "        self.moving_var = torch.ones(shape)\n",
    "\n",
    "    def forward(self, X):\n",
    "        # 如果X不在内存上，将moving_mean和moving_var\n",
    "        # 复制到X所在显存上\n",
    "        if self.moving_mean.device != X.device:\n",
    "            self.moving_mean = self.moving_mean.to(X.device)\n",
    "            self.moving_var = self.moving_var.to(X.device)\n",
    "        # 保存更新过的moving_mean和moving_var\n",
    "        Y, self.moving_mean, self.moving_var = batch_norm(\n",
    "            X, self.gamma, self.beta, self.moving_mean,\n",
    "            self.moving_var, eps=1e-5, momentum=0.9)\n",
    "        return Y"
   ]
  }
 ],
 "metadata": {
  "kernelspec": {
   "display_name": "Python 3.9.12 ('base')",
   "language": "python",
   "name": "python3"
  },
  "language_info": {
   "codemirror_mode": {
    "name": "ipython",
    "version": 3
   },
   "file_extension": ".py",
   "mimetype": "text/x-python",
   "name": "python",
   "nbconvert_exporter": "python",
   "pygments_lexer": "ipython3",
   "version": "3.9.12"
  },
  "orig_nbformat": 4,
  "vscode": {
   "interpreter": {
    "hash": "462caf5131bdaea9f40f72fd77030f3452d221c2a6e1b91cdb9218e97e705d92"
   }
  }
 },
 "nbformat": 4,
 "nbformat_minor": 2
}
