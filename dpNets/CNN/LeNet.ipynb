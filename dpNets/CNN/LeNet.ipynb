{
 "cells": [
  {
   "cell_type": "markdown",
   "metadata": {},
   "source": [
    "# LeNet\n",
    "## 一、组成部分\n",
    " * 卷积编码器：两个$ kennel size \\in R^{5*5} and paddings == 2$\n",
    " * 池化层：两个avgpooling ，stride=2\n",
    " * 全连接层密集块： 三个全连接层，分别为 $ \\in R1^{400*120} and \\in R2^{120*84} and \\in R3^{84*10} $\n",
    "\n",
    "![avatar](https://zh.d2l.ai/_images/lenet.svg)\n",
    "\n",
    "\n"
   ]
  },
  {
   "cell_type": "code",
   "execution_count": 1,
   "metadata": {},
   "outputs": [
    {
     "name": "stdout",
     "output_type": "stream",
     "text": [
      "Conv2d output shape: \t torch.Size([1, 6, 28, 28])\n",
      "ReLU output shape: \t torch.Size([1, 6, 28, 28])\n",
      "AvgPool2d output shape: \t torch.Size([1, 6, 14, 14])\n",
      "Conv2d output shape: \t torch.Size([1, 16, 10, 10])\n",
      "ReLU output shape: \t torch.Size([1, 16, 10, 10])\n",
      "AvgPool2d output shape: \t torch.Size([1, 16, 5, 5])\n",
      "Flatten output shape: \t torch.Size([1, 400])\n",
      "Linear output shape: \t torch.Size([1, 120])\n",
      "ReLU output shape: \t torch.Size([1, 120])\n",
      "Linear output shape: \t torch.Size([1, 84])\n",
      "ReLU output shape: \t torch.Size([1, 84])\n",
      "Linear output shape: \t torch.Size([1, 10])\n"
     ]
    },
    {
     "name": "stderr",
     "output_type": "stream",
     "text": [
      "e:\\coding_setting\\Miniconda\\lib\\site-packages\\tqdm\\auto.py:22: TqdmWarning: IProgress not found. Please update jupyter and ipywidgets. See https://ipywidgets.readthedocs.io/en/stable/user_install.html\n",
      "  from .autonotebook import tqdm as notebook_tqdm\n"
     ]
    }
   ],
   "source": [
    "import torch\n",
    "from torch import nn\n",
    "\n",
    "LeNet=nn.Sequential(\n",
    "    nn.Conv2d(1,6,kernel_size=5,padding=2),\n",
    "    nn.ReLU(),\n",
    "    nn.AvgPool2d(kernel_size=2,stride=2),\n",
    "    nn.Conv2d(6,16,kernel_size=5),\n",
    "    nn.ReLU(),\n",
    "    nn.AvgPool2d(kernel_size=2,stride=2),\n",
    "    nn.Flatten(),\n",
    "    nn.Linear(16*25,120),nn.ReLU(),\n",
    "    nn.Linear(120,84),nn.ReLU(),\n",
    "    nn.Linear(84,10)\n",
    ")\n",
    "\n",
    "X = torch.rand(size=(1, 1, 28, 28), dtype=torch.float32)\n",
    "for layer in LeNet:\n",
    "    X = layer(X)\n",
    "    print(layer.__class__.__name__,'output shape: \\t',X.shape)\n"
   ]
  },
  {
   "cell_type": "markdown",
   "metadata": {},
   "source": [
    "- 通过实验我们看出，第一层的卷积层padding=2,则根据 $C_o=C_i-K+p+1$ 可得padding为2时可以抵消卷积层带来的部分参数缺失 **(p=padding*2)**\n",
    "- 每一个池化层目的是使高度宽度都减半，汇聚参数特征\n",
    "- 最后通过全连接层逐渐减少维数"
   ]
  },
  {
   "cell_type": "code",
   "execution_count": 2,
   "metadata": {},
   "outputs": [],
   "source": [
    "# classification文件提供的针对图像分析的工具类函数\n",
    "import torch\n",
    "from torch.utils import data\n",
    "import torchvision\n",
    "from torch import nn\n",
    "class Accumulator:\n",
    "    def __init__(self,n):\n",
    "        self.data=[0.0]*n\n",
    "    def add(self,*args):\n",
    "        self.data=[a+float(b) for a,b in zip(self.data,args)]\n",
    "    def clear(self):\n",
    "        self.data=[0.0]*(len(self.data))\n",
    "    #方便该类可以通过下标方式访问,如a[1]\n",
    "    def __getitem__(self,i):\n",
    "        return self.data[i]\n",
    "\n",
    "def get_data_fashion_mnist(batch_size,loaders=0):\n",
    "    mnist_train=torchvision.datasets.FashionMNIST(\n",
    "        root='../data',train=True,download=True,transform=torchvision.transforms.ToTensor())\n",
    "    mnist_test=torchvision.datasets.FashionMNIST(\n",
    "        root='../data',train=False,download=True,transform=torchvision.transforms.ToTensor())\n",
    "    return (data.DataLoader(mnist_train,batch_size=batch_size,shuffle=True,num_workers=loaders)), \\\n",
    "           (data.DataLoader(mnist_test,batch_size=batch_size,shuffle=True,num_workers=loaders)) \n",
    "\n",
    "def getAccuracy(y_hat,y):\n",
    "    if len(y_hat.shape) > 1 and y_hat.shape[1] > 1:\n",
    "        y_hat = y_hat.argmax(axis=1)\n",
    "    cmp = y_hat.type(y.dtype) == y\n",
    "    return float(cmp.type(y.dtype).sum())/y.shape[0]   \n",
    "\n",
    "def evaluate_accuracy(net, data_iter):\n",
    "    test_counter,test_acc=[],[]\n",
    "    \"\"\"计算在指定数据集上模型的精度\"\"\"\n",
    "    if isinstance(net, torch.nn.Module):\n",
    "        net.eval()  # 将模型设置为评估模式\n",
    "    device = torch.device(\"cuda:0\" if torch.cuda.is_available() else \"cpu\")\n",
    "    metric = Accumulator(2)  # 正确预测数、预测总数\n",
    "    with torch.no_grad():\n",
    "        for X, y in data_iter:\n",
    "            X,y=X.to(device),y.to(device)\n",
    "            metric.add(getAccuracy(net(X), y)*y.numel(), y.numel())\n",
    "            test_acc.append(metric[0]/metric[1])\n",
    "    test_counter=[i+1 for i in range(len(test_acc))]\n",
    "    return metric[0] / metric[1],test_counter,test_acc\n",
    "\n",
    "import matplotlib.pyplot as plt\n",
    "class Graph:\n",
    "    def __init__(self,xlabel,ylabel):\n",
    "        self.fig=plt.figure()\n",
    "        plt.xlabel(xlabel)\n",
    "        plt.ylabel(ylabel)\n",
    "    def addLine(self,x,y,color='black'):\n",
    "        plt.plot(x,y,color=color)\n",
    "    def addScatter(self,x,y,color='black'):\n",
    "        plt.scatter(x,y,color=color)\n",
    "    def addLegend(self,list,loc='upper right'):\n",
    "        plt.legend(list,loc=loc)\n",
    "    def show(self):\n",
    "        plt.show()\n"
   ]
  },
  {
   "cell_type": "code",
   "execution_count": 3,
   "metadata": {},
   "outputs": [
    {
     "name": "stdout",
     "output_type": "stream",
     "text": [
      "torch.Size([256, 1, 28, 28]) torch.float32 torch.Size([256]) torch.int64\n"
     ]
    }
   ],
   "source": [
    "batch_size=256\n",
    "train_set,test_set=get_data_fashion_mnist(batch_size)\n",
    "for X, y in train_set:\n",
    "    print(X.shape, X.dtype, y.shape, y.dtype)\n",
    "    break"
   ]
  },
  {
   "cell_type": "code",
   "execution_count": 4,
   "metadata": {},
   "outputs": [],
   "source": [
    "from ctypes import sizeof\n",
    "\n",
    "\n",
    "def init_weight(module):\n",
    "    if(type(module)==nn.Linear or type(module)==nn.Conv2d):\n",
    "        nn.init.xavier_uniform_(module.weight)\n",
    "\n",
    "def train(train_set,epochs,lr):\n",
    "    net=LeNet\n",
    "    optimizer=torch.optim.SGD(net.parameters(), lr=lr)\n",
    "    loss=nn.CrossEntropyLoss()\n",
    "    net.apply(init_weight)\n",
    "    device = torch.device(\"cuda:0\" if torch.cuda.is_available() else \"cpu\")\n",
    "    net.to(device)\n",
    "    train_losses=[]\n",
    "    train_counter=[]\n",
    "    train_acc=[]\n",
    "    for i in range(epochs):\n",
    "        # 损失之和，准确率之和，总数\n",
    "        metric=Accumulator(3)\n",
    "        net.train()\n",
    "        for X,y in train_set:\n",
    "            X,y=X.to(device),y.to(device)\n",
    "            optimizer.zero_grad()\n",
    "            y_hat=net(X)\n",
    "            l=loss(y_hat,y)\n",
    "            l.backward()\n",
    "            optimizer.step()\n",
    "            metric.add(l*X.shape[0],getAccuracy(y_hat,y)*X.shape[0],X.shape[0])\n",
    "            train_losses.append(l.item())\n",
    "            train_acc.append(getAccuracy(y_hat,y))\n",
    "        train_loss=metric[0]/metric[2]\n",
    "        train_accuracy=metric[1]/metric[2]    \n",
    "        print(f'第{i+1}次训练,损失为{train_loss},准确率为{train_accuracy}')\n",
    "    ntest_acc,test_counter,test_acc=evaluate_accuracy(LeNet,test_set)\n",
    "    print(f'该模型在测试集上的精度为{ntest_acc}')\n",
    "    train_counter=[i+1 for i in range(len(train_losses))]\n",
    "    g=Graph('num','loss or acc')\n",
    "    g.addLine(train_counter,train_losses,'blue')\n",
    "    g.addLine(train_counter,train_acc,'purple')\n",
    "    g.addLine(test_counter,test_acc,'green')\n",
    "    g.addLegend(['loss','acc'])\n",
    "    g.show()\n"
   ]
  },
  {
   "cell_type": "code",
   "execution_count": 5,
   "metadata": {},
   "outputs": [
    {
     "name": "stdout",
     "output_type": "stream",
     "text": [
      "第1次训练,损失为1.1096767090479533,准确率为0.5915666666666667\n",
      "第2次训练,损失为0.5539508808771769,准确率为0.7926666666666666\n",
      "第3次训练,损失为0.4616067995071411,准确率为0.8272666666666667\n",
      "第4次训练,损失为0.41800934874216716,准确率为0.8448\n",
      "第5次训练,损失为0.3866628435134888,准确率为0.8561166666666666\n",
      "该模型在测试集上的精度为0.8403\n"
     ]
    },
    {
     "data": {
      "image/png": "[encoded data removed]",
      "text/plain": [
       "<Figure size 640x480 with 1 Axes>"
      ]
     },
     "metadata": {},
     "output_type": "display_data"
    }
   ],
   "source": [
    "train(train_set,5 ,0.3)"
   ]
  },
  {
   "cell_type": "markdown",
   "metadata": {},
   "source": [
    "> 第一次训练时发现并没有收敛，查找参数后发现是没有调到train模式，以下介绍不同模式的区别\n",
    "> * **model.eval()**:不启用 BatchNormalization 和 Dropout。此时pytorch会自动把BN和DropOut固定住，不会取平均，而是用训练好的值。不然的话，一旦test的batch_size过小，很容易就会因BN层导致模型performance损失较大；\n",
    "> * **model.train()**:启用 BatchNormalization 和 Dropout。 在模型测试阶段使用model.train() 让model变成训练模式，此时 dropout和batch normalization的操作在训练起到防止网络过拟合的问题。"
   ]
  }
 ],
 "metadata": {
  "kernelspec": {
   "display_name": "Python 3.9.12 ('base')",
   "language": "python",
   "name": "python3"
  },
  "language_info": {
   "codemirror_mode": {
    "name": "ipython",
    "version": 3
   },
   "file_extension": ".py",
   "mimetype": "text/x-python",
   "name": "python",
   "nbconvert_exporter": "python",
   "pygments_lexer": "ipython3",
   "version": "3.9.12"
  },
  "orig_nbformat": 4,
  "vscode": {
   "interpreter": {
    "hash": "462caf5131bdaea9f40f72fd77030f3452d221c2a6e1b91cdb9218e97e705d92"
   }
  }
 },
 "nbformat": 4,
 "nbformat_minor": 2
}
