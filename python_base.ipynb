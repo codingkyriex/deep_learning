{
 "cells": [
  {
   "cell_type": "markdown",
   "metadata": {},
   "source": [
    "# 一、基础用法\n",
    "## 1、下划线的用法"
   ]
  },
  {
   "cell_type": "markdown",
   "metadata": {},
   "source": [
    "# 二、作业部分\n",
    "1.分段函数求值"
   ]
  },
  {
   "cell_type": "code",
   "execution_count": 1,
   "metadata": {},
   "outputs": [
    {
     "data": {
      "text/plain": [
       "[-7, 1, 2]"
      ]
     },
     "execution_count": 1,
     "metadata": {},
     "output_type": "execute_result"
    }
   ],
   "source": [
    "def f(x):\n",
    "    if x>1:\n",
    "        return 3*x-5\n",
    "    elif x>=-1 and x<=1:\n",
    "        return x+2\n",
    "    else:\n",
    "        return 5*x+3\n",
    "x=[-2,2,0]\n",
    "y=[f(i)for i in x]\n",
    "y\n"
   ]
  },
  {
   "cell_type": "markdown",
   "metadata": {},
   "source": [
    "2.判断闰年"
   ]
  },
  {
   "cell_type": "code",
   "execution_count": null,
   "metadata": {},
   "outputs": [],
   "source": [
    "def isleap(y):\n",
    "    if(y%4==0) and (y%100!=0) or(y%400==0):\n",
    "        return 1\n",
    "    else:\n",
    "        return 0\n",
    "y=[]\n",
    "for i in range(100,2022):\n",
    "    if isleap(i)==1:\n",
    "        y.append(i)\n",
    "y"
   ]
  },
  {
   "cell_type": "markdown",
   "metadata": {},
   "source": [
    "3.ld包含次数"
   ]
  },
  {
   "cell_type": "code",
   "execution_count": 5,
   "metadata": {},
   "outputs": [
    {
     "data": {
      "text/plain": [
       "(10, 6)"
      ]
     },
     "execution_count": 5,
     "metadata": {},
     "output_type": "execute_result"
    }
   ],
   "source": [
    "s='hello world hello worldhellohello worldhello worldhello worldhello worldhello\\\n",
    "worldhello worldhello worldhello worldhello hellohelloworld\\\n",
    "worldworldhelloworldworld'\n",
    "strs=s.split(' ')\n",
    "l=len(strs[-2])\n",
    "cnt=len(strs[-1].split('ld'))\n",
    "l,cnt"
   ]
  },
  {
   "cell_type": "markdown",
   "metadata": {},
   "source": [
    "4.字典存储"
   ]
  },
  {
   "cell_type": "code",
   "execution_count": 12,
   "metadata": {},
   "outputs": [
    {
     "name": "stdout",
     "output_type": "stream",
     "text": [
      "\n",
      "Name: jiaLiang\n",
      "Age= 23\n",
      "\n",
      "Name: wangChen\n",
      "Age= 24\n",
      "\n",
      "Name: jiaMing\n",
      "Age= 22\n",
      "\n",
      "Name: wangJie\n",
      "Age= 22\n",
      "\n",
      "Name: yuQing\n",
      "Age= 24\n",
      "\n",
      "Name: wenZhen\n",
      "Age= 23\n",
      "\n",
      "Name: haoNan\n",
      "Age= 25\n",
      "\n",
      "Name: luYi\n",
      "Age= 23\n",
      "\n",
      "Name: boWen\n",
      "Age= 23\n",
      "\n",
      "Name: jiaLiang\n",
      "\n",
      "Name: wangChen\n",
      "\n",
      "Name: jiaMing\n",
      "\n",
      "Name: wangJie\n",
      "\n",
      "Name: yuQing\n",
      "\n",
      "Name: wenZhen\n",
      "\n",
      "Name: haoNan\n",
      "\n",
      "Name: luYi\n",
      "\n",
      "Name: boWen\n",
      "boWen haoNan jiaLiang jiaMing luYi wangChen wangJie wenZhen yuQing 年龄范围在22与25之间\n",
      "{24, 25, 22, 23}\n",
      "{'jiaMing': 22, 'wangJie': 22, 'xiaoming': 18}\n"
     ]
    }
   ],
   "source": [
    "friends={\n",
    "'jiaLiang':23,\n",
    "'wangChen':24,\n",
    "'jiaMing':22,\n",
    "'wangJie':22,\n",
    "'yuQing':24,\n",
    "'wenZhen':23,\n",
    "'haoNan':25,\n",
    "'luYi':23,\n",
    "'boWen':23\n",
    "}\n",
    "#遍历出名字和对应年龄\n",
    "for name,age in friends.items():\n",
    "    print(\"\\nName: \"+name)\n",
    "    print(\"Age= \"+str(age))\n",
    "#遍历出名字\n",
    "for name in friends.keys():\n",
    "    print(\"\\nName: \"+name)\n",
    "#字母顺序遍历名字\n",
    "for name in sorted(friends):\n",
    "    print(str(name),end=\" \")\n",
    "#遍历出所有你朋友的年龄，查看自己朋友都在什么年龄段\n",
    "min,max=100,0\n",
    "for age in friends.values():\n",
    "    if age<min:\n",
    "        min=age\n",
    "    elif age>max:\n",
    "        max=age\n",
    "print('年龄范围在'+str(min)+'与'+str(max)+'之间')\n",
    "#把遍历出的年龄去重\n",
    "friage=set()\n",
    "for age in friends.values():\n",
    "    friage.add(age)\n",
    "print(str(friage))\n",
    "#插入18岁的“xiaoming”\n",
    "friends['xiaoming']=18\n",
    "#删除大于等于23岁的朋友\n",
    "for name,age in list(friends.items()):\n",
    "    if age>=23:\n",
    "        del friends[name]\n",
    "print(str(friends))"
   ]
  }
 ],
 "metadata": {
  "kernelspec": {
   "display_name": "Python 3.9.12 ('base')",
   "language": "python",
   "name": "python3"
  },
  "language_info": {
   "codemirror_mode": {
    "name": "ipython",
    "version": 3
   },
   "file_extension": ".py",
   "mimetype": "text/x-python",
   "name": "python",
   "nbconvert_exporter": "python",
   "pygments_lexer": "ipython3",
   "version": "3.9.12"
  },
  "orig_nbformat": 4,
  "vscode": {
   "interpreter": {
    "hash": "462caf5131bdaea9f40f72fd77030f3452d221c2a6e1b91cdb9218e97e705d92"
   }
  }
 },
 "nbformat": 4,
 "nbformat_minor": 2
}
