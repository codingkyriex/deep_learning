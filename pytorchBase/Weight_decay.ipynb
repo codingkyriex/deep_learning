{
 "cells": [
  {
   "cell_type": "markdown",
   "metadata": {},
   "source": [
    "# 权重衰减实验"
   ]
  },
  {
   "cell_type": "markdown",
   "metadata": {},
   "source": [
    "## 使用高维线性回归实验进行操作\n",
    "高维函数如下：\n",
    "$$\n",
    "y=0.05+\\sum_{i=1}^p 0.01x_i+ \\epsilon\n",
    "$$"
   ]
  },
  {
   "cell_type": "code",
   "execution_count": 6,
   "metadata": {},
   "outputs": [],
   "source": [
    "import matplotlib.pyplot as plot\n",
    "class Animator:  #@save\n",
    "    \"\"\"在动画中绘制数据\"\"\"\n",
    "    def __init__(self, xlabel=None, ylabel=None, legend=None, xlim=None,\n",
    "                 ylim=None, xscale='linear', yscale='linear',\n",
    "                 fmts=('-', 'm--', 'g-.', 'r:'), nrows=1, ncols=1,\n",
    "                 figsize=(3.5, 2.5)):\n",
    "        # 增量地绘制多条线\n",
    "        if legend is None:\n",
    "            legend = []\n",
    "        # d2l.use_svg_display()\n",
    "        self.fig, self.axes = plot.subplots(nrows, ncols, figsize=figsize)\n",
    "        if nrows * ncols == 1:\n",
    "            self.axes = [self.axes, ]\n",
    "        # 使用lambda函数捕获参数\n",
    "        self.config_axes = lambda: plot.set_axes(\n",
    "            self.axes[0], xlabel, ylabel, xlim, ylim, xscale, yscale, legend)\n",
    "        self.X, self.Y, self.fmts = None, None, fmts\n",
    "\n",
    "    def add(self, x, y):\n",
    "        # 向图表中添加多个数据点\n",
    "        if not hasattr(y, \"__len__\"):\n",
    "            y = [y]\n",
    "        n = len(y)\n",
    "        if not hasattr(x, \"__len__\"):\n",
    "            x = [x] * n\n",
    "        if not self.X:\n",
    "            self.X = [[] for _ in range(n)]\n",
    "        if not self.Y:\n",
    "            self.Y = [[] for _ in range(n)]\n",
    "        for i, (a, b) in enumerate(zip(x, y)):\n",
    "            if a is not None and b is not None:\n",
    "                self.X[i].append(a)\n",
    "                self.Y[i].append(b)\n",
    "        self.axes[0].cla()\n",
    "        for x, y, fmt in zip(self.X, self.Y, self.fmts):\n",
    "            self.axes[0].plot(x, y, fmt)\n",
    "        self.config_axes()\n",
    "        display.display(self.fig)\n",
    "        display.clear_output(wait=True)"
   ]
  },
  {
   "cell_type": "code",
   "execution_count": 7,
   "metadata": {},
   "outputs": [],
   "source": [
    "import torch\n",
    "from torch import nn\n",
    "\n",
    "#构造数据集\n",
    "n_train, n_test, num_inputs, batch_size = 20, 100, 200, 1\n",
    "true_w,true_b=torch.ones(num_inputs,1),0.05\n",
    "features=torch.randn((n_train+n_test,num_inputs))\n",
    "labels=torch.matmul(features,true_w)+torch.normal(0.0,0.01,size=(n_train+n_test,1))\n",
    "train_features,test_features=features[:n_train,:],features[n_train:,:]\n",
    "train_labels,test_labels=labels[:n_train],labels[n_train:]\n",
    "dataset = torch.utils.data.TensorDataset(train_features, train_labels)\n",
    "train_iter = torch.utils.data.DataLoader(dataset, batch_size, shuffle=True)\n"
   ]
  },
  {
   "cell_type": "code",
   "execution_count": 12,
   "metadata": {},
   "outputs": [],
   "source": [
    "loss=nn.MSELoss()\n",
    "# 权重衰减\n",
    "def train(wd,lr,num_epochs):\n",
    "    animator=Animator(xlabel='epochs', ylabel='loss', yscale='log',xlim=[5, num_epochs], legend=['train', 'test'])\n",
    "    net=nn.Sequential(nn.Linear(num_inputs,1))\n",
    "    # 参数初始化\n",
    "    for param in net.parameters():\n",
    "        param.data.normal_()\n",
    "    optimizer_w = torch.optim.SGD(params=[net[0].weight], lr=lr, weight_decay=wd) # 对权重参数衰减\n",
    "    optimizer_b = torch.optim.SGD(params=[net[0].bias], lr=lr)  # 不对偏差参数衰减\n",
    "    for epoch in range(num_epochs):\n",
    "        for X,y in train_iter:\n",
    "            l=loss(net(X),y).mean()\n",
    "            optimizer_w.zero_grad()\n",
    "            optimizer_b.zero_grad()\n",
    "            l.backward()\n",
    "            optimizer_w.step()\n",
    "            optimizer_b.step()\n",
    "        if (epoch + 1) % 5 == 0:\n",
    "            animator.add(epoch + 1,\n",
    "                         (d2l.evaluate_loss(net, train_iter, loss),\n",
    "                          d2l.evaluate_loss(net, test_iter, loss)))\n",
    "        "
   ]
  },
  {
   "cell_type": "code",
   "execution_count": 13,
   "metadata": {},
   "outputs": [
    {
     "ename": "TypeError",
     "evalue": "len() of a 0-d tensor",
     "output_type": "error",
     "traceback": [
      "\u001b[1;31m---------------------------------------------------------------------------\u001b[0m",
      "\u001b[1;31mTypeError\u001b[0m                                 Traceback (most recent call last)",
      "\u001b[1;32me:\\study_notebook\\ai_study\\Weight_decay.ipynb Cell 6\u001b[0m in \u001b[0;36m<cell line: 1>\u001b[1;34m()\u001b[0m\n\u001b[1;32m----> <a href='vscode-notebook-cell:/e%3A/study_notebook/ai_study/Weight_decay.ipynb#W6sZmlsZQ%3D%3D?line=0'>1</a>\u001b[0m train(\u001b[39m0\u001b[39;49m,\u001b[39m0.003\u001b[39;49m,\u001b[39m100\u001b[39;49m)\n",
      "\u001b[1;32me:\\study_notebook\\ai_study\\Weight_decay.ipynb Cell 6\u001b[0m in \u001b[0;36mtrain\u001b[1;34m(wd, lr, num_epochs)\u001b[0m\n\u001b[0;32m     <a href='vscode-notebook-cell:/e%3A/study_notebook/ai_study/Weight_decay.ipynb#W6sZmlsZQ%3D%3D?line=16'>17</a>\u001b[0m     optimizer_w\u001b[39m.\u001b[39mstep()\n\u001b[0;32m     <a href='vscode-notebook-cell:/e%3A/study_notebook/ai_study/Weight_decay.ipynb#W6sZmlsZQ%3D%3D?line=17'>18</a>\u001b[0m     optimizer_b\u001b[39m.\u001b[39mstep()\n\u001b[1;32m---> <a href='vscode-notebook-cell:/e%3A/study_notebook/ai_study/Weight_decay.ipynb#W6sZmlsZQ%3D%3D?line=18'>19</a>\u001b[0m animator\u001b[39m.\u001b[39;49madd(epoch\u001b[39m+\u001b[39;49m\u001b[39m1\u001b[39;49m,loss(net(X),y)\u001b[39m.\u001b[39;49mmean())\n",
      "\u001b[1;32me:\\study_notebook\\ai_study\\Weight_decay.ipynb Cell 6\u001b[0m in \u001b[0;36mAnimator.add\u001b[1;34m(self, x, y)\u001b[0m\n\u001b[0;32m     <a href='vscode-notebook-cell:/e%3A/study_notebook/ai_study/Weight_decay.ipynb#W6sZmlsZQ%3D%3D?line=21'>22</a>\u001b[0m \u001b[39mif\u001b[39;00m \u001b[39mnot\u001b[39;00m \u001b[39mhasattr\u001b[39m(y, \u001b[39m\"\u001b[39m\u001b[39m__len__\u001b[39m\u001b[39m\"\u001b[39m):\n\u001b[0;32m     <a href='vscode-notebook-cell:/e%3A/study_notebook/ai_study/Weight_decay.ipynb#W6sZmlsZQ%3D%3D?line=22'>23</a>\u001b[0m     y \u001b[39m=\u001b[39m [y]\n\u001b[1;32m---> <a href='vscode-notebook-cell:/e%3A/study_notebook/ai_study/Weight_decay.ipynb#W6sZmlsZQ%3D%3D?line=23'>24</a>\u001b[0m n \u001b[39m=\u001b[39m \u001b[39mlen\u001b[39;49m(y)\n\u001b[0;32m     <a href='vscode-notebook-cell:/e%3A/study_notebook/ai_study/Weight_decay.ipynb#W6sZmlsZQ%3D%3D?line=24'>25</a>\u001b[0m \u001b[39mif\u001b[39;00m \u001b[39mnot\u001b[39;00m \u001b[39mhasattr\u001b[39m(x, \u001b[39m\"\u001b[39m\u001b[39m__len__\u001b[39m\u001b[39m\"\u001b[39m):\n\u001b[0;32m     <a href='vscode-notebook-cell:/e%3A/study_notebook/ai_study/Weight_decay.ipynb#W6sZmlsZQ%3D%3D?line=25'>26</a>\u001b[0m     x \u001b[39m=\u001b[39m [x] \u001b[39m*\u001b[39m n\n",
      "File \u001b[1;32me:\\coding_setting\\Miniconda\\lib\\site-packages\\torch\\_tensor.py:705\u001b[0m, in \u001b[0;36mTensor.__len__\u001b[1;34m(self)\u001b[0m\n\u001b[0;32m    703\u001b[0m     \u001b[39mreturn\u001b[39;00m handle_torch_function(Tensor\u001b[39m.\u001b[39m\u001b[39m__len__\u001b[39m, (\u001b[39mself\u001b[39m,), \u001b[39mself\u001b[39m)\n\u001b[0;32m    704\u001b[0m \u001b[39mif\u001b[39;00m \u001b[39mself\u001b[39m\u001b[39m.\u001b[39mdim() \u001b[39m==\u001b[39m \u001b[39m0\u001b[39m:\n\u001b[1;32m--> 705\u001b[0m     \u001b[39mraise\u001b[39;00m \u001b[39mTypeError\u001b[39;00m(\u001b[39m\"\u001b[39m\u001b[39mlen() of a 0-d tensor\u001b[39m\u001b[39m\"\u001b[39m)\n\u001b[0;32m    706\u001b[0m \u001b[39mif\u001b[39;00m torch\u001b[39m.\u001b[39m_C\u001b[39m.\u001b[39m_get_tracing_state():\n\u001b[0;32m    707\u001b[0m     warnings\u001b[39m.\u001b[39mwarn(\u001b[39m'\u001b[39m\u001b[39mUsing len to get tensor shape might cause the trace to be incorrect. \u001b[39m\u001b[39m'\u001b[39m\n\u001b[0;32m    708\u001b[0m                   \u001b[39m'\u001b[39m\u001b[39mRecommended usage would be tensor.shape[0]. \u001b[39m\u001b[39m'\u001b[39m\n\u001b[0;32m    709\u001b[0m                   \u001b[39m'\u001b[39m\u001b[39mPassing a tensor of different shape might lead to errors or silently give \u001b[39m\u001b[39m'\u001b[39m\n\u001b[0;32m    710\u001b[0m                   \u001b[39m'\u001b[39m\u001b[39mincorrect results.\u001b[39m\u001b[39m'\u001b[39m, category\u001b[39m=\u001b[39mtorch\u001b[39m.\u001b[39mjit\u001b[39m.\u001b[39mTracerWarning, stacklevel\u001b[39m=\u001b[39m\u001b[39m2\u001b[39m)\n",
      "\u001b[1;31mTypeError\u001b[0m: len() of a 0-d tensor"
     ]
    },
    {
     "data": {
      "image/png": "[encoded data removed]",
      "text/plain": [
       "<Figure size 350x250 with 1 Axes>"
      ]
     },
     "metadata": {},
     "output_type": "display_data"
    }
   ],
   "source": [
    "train(0,0.003,100)"
   ]
  }
 ],
 "metadata": {
  "kernelspec": {
   "display_name": "Python 3.9.12 ('base')",
   "language": "python",
   "name": "python3"
  },
  "language_info": {
   "codemirror_mode": {
    "name": "ipython",
    "version": 3
   },
   "file_extension": ".py",
   "mimetype": "text/x-python",
   "name": "python",
   "nbconvert_exporter": "python",
   "pygments_lexer": "ipython3",
   "version": "3.9.12"
  },
  "orig_nbformat": 4,
  "vscode": {
   "interpreter": {
    "hash": "462caf5131bdaea9f40f72fd77030f3452d221c2a6e1b91cdb9218e97e705d92"
   }
  }
 },
 "nbformat": 4,
 "nbformat_minor": 2
}
